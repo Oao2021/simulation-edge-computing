{
 "cells": [
  {
   "cell_type": "markdown",
   "id": "d45de80b",
   "metadata": {},
   "source": [
    "# Description"
   ]
  },
  {
   "cell_type": "markdown",
   "id": "d15efe55",
   "metadata": {},
   "source": [
    "Notebook by Omo Oleghe (o.oleghe@ritepaklimited.com)\n",
    "\n",
    "It is a simple notebook to model how three edge computing nodes service a geographical area. The nodes are resource constrained by CPU. The simulation process has been modelled using simpy (https://simpy.readthedocs.io/en/latest/)\n",
    "\n",
    "ipyleaflet (https://ipyleaflet.readthedocs.io/en/latest/) has been used to model\n",
    "a geographical area to show when/where tasks are received. Popup markers are used to indicate the states of tasks from queuing to processing to finished. Blue markers (with Q) indicate tasks in queue. Green markers (with rotating gear) indicates tasks in process. Red markers for finished tasks are slightly opaque. The node locations have been indicated using three markers (masts).\n",
    "\n",
    "In this simulation model, tasks tasks or computing requests are assigend to the closest node by distance, mimicng a location-aware task placement policy\n",
    "\n",
    "A custom marker (car) has been used to mimic a moving car. In this notebook, the moving car is simply an object, just used to show how to add a moving object. Moving cars will be used to model V2X and V2V edge computing\n",
    "\n",
    "ipywidgets (https://ipywidgets.readthedocs.io/) has been used to create the interactive GUIs\n",
    "\n",
    "Matplotlib (https://matplotlib.org) has been used for graphing purposes.\n",
    "\n",
    "Custom icons for the markers are from https://fontawesome.com\n",
    "Custom car and mast markers from https://www.flaticon.com\n",
    "Ant path coordinates were obtained using https://www.maps.ie/map-my-route/"
   ]
  },
  {
   "cell_type": "markdown",
   "id": "5bab0e44",
   "metadata": {},
   "source": [
    "## Set up for the map"
   ]
  },
  {
   "cell_type": "code",
   "execution_count": null,
   "id": "d376dd5a",
   "metadata": {},
   "outputs": [],
   "source": [
    "# import the map modules\n",
    "from ipyleaflet import (Map, Circle, Marker, MeasureControl, AwesomeIcon, \n",
    "                        Popup, FullScreenControl, AntPath, Icon, WidgetControl)\n",
    "from ipywidgets import (FloatSlider, IntSlider, interact, interactive, fixed, interact_manual, jslink, \n",
    "FloatProgress, VBox, HTML)\n",
    "import ipywidgets as widgets\n",
    "from threading import Thread\n",
    "from IPython.display import display\n",
    "\n",
    "# import the simulation modules\n",
    "import simpy\n",
    "import numpy as np\n",
    "\n",
    "# import package for computing distance\n",
    "import mpu\n",
    "\n",
    "# import the pacakge for plotting the charts\n",
    "import matplotlib.pyplot as plt"
   ]
  },
  {
   "cell_type": "code",
   "execution_count": null,
   "id": "6ae5f2c3",
   "metadata": {},
   "outputs": [],
   "source": [
    "# set the center coordinates of the map\n",
    "center_lat = 6.515\n",
    "center_lon = 3.394"
   ]
  },
  {
   "cell_type": "code",
   "execution_count": null,
   "id": "8b0a1891",
   "metadata": {},
   "outputs": [],
   "source": [
    "# create the map widget\n",
    "m = Map(center=(center_lat, center_lon), zoom=15)"
   ]
  },
  {
   "cell_type": "markdown",
   "id": "40d7adf0",
   "metadata": {},
   "source": [
    "## Create custom icons for the map"
   ]
  },
  {
   "cell_type": "code",
   "execution_count": null,
   "id": "ae9d58ca",
   "metadata": {},
   "outputs": [],
   "source": [
    "# icon for marker to indicate task that is in process. The main marker (marker) icon is \n",
    "# dynamically changed within the service_task_in_node function in the simpy-based model \n",
    "# later on\n",
    "icon1 = AwesomeIcon(name='fas fa-cog', marker_color='green',\n",
    "                    icon_color='black', spin=True)\n",
    "\n",
    "# icon for marker to indicate task has completed. The main marker (marker) icon is \n",
    "# dynamically changed within the service_task_in_node function in the simpy-based model \n",
    "# later on\n",
    "icon2 = AwesomeIcon(name='check-circle', marker_color='red', icon_color='black')\n",
    "\n",
    "# icon for marker to show the cell site on the map\n",
    "icon3 = Icon(icon_url='https://image.flaticon.com/icons/png/512/62/62501.png', \n",
    "             icon_size=[25,60], icon_anchor=[25,60])\n",
    "\n",
    "# icon (Q) for main marker to indicate task is in queue\n",
    "icon4 = AwesomeIcon(name='fab fa-quora', marker_color='blue', icon_color='black')\n",
    "\n",
    "# icon for moving marker\n",
    "icon5 = Icon(icon_url='https://image.flaticon.com/icons/png/512/3202/3202926.png', \n",
    "             icon_size=[30, 30])"
   ]
  },
  {
   "cell_type": "markdown",
   "id": "496b65f5",
   "metadata": {},
   "source": [
    "# Set up the markers and ant paths"
   ]
  },
  {
   "cell_type": "code",
   "execution_count": null,
   "id": "b14d8dfe",
   "metadata": {},
   "outputs": [],
   "source": [
    "# This is the main marker, that will change icon states. Here it is instantiated.\n",
    "marker = Marker(location=(6.514253317659667, 3.3933971689342877), icon=icon4)"
   ]
  },
  {
   "cell_type": "code",
   "execution_count": null,
   "id": "4234b85a",
   "metadata": {},
   "outputs": [],
   "source": [
    "# location for node0\n",
    "node0_lat = 6.516060111018401\n",
    "node0_lon = 3.3942876621261657\n",
    "\n",
    "# location for node1\n",
    "node1_lat = 6.5129475190442365\n",
    "node1_lon = 3.391069011343227\n",
    "\n",
    "# location for node2\n",
    "node2_lat = 6.518874218644982\n",
    "node2_lon = 3.3970771594713787\n"
   ]
  },
  {
   "cell_type": "code",
   "execution_count": null,
   "id": "b8e07b63",
   "metadata": {},
   "outputs": [],
   "source": [
    "# markers for the nodes\n",
    "node0 = Marker(location=(node0_lat, node0_lon), icon=icon3)\n",
    "node1 = Marker(location=(node1_lat, node1_lon), icon=icon3)\n",
    "node2 = Marker(location=(node2_lat, node2_lon), icon=icon3)"
   ]
  },
  {
   "cell_type": "code",
   "execution_count": null,
   "id": "55965033",
   "metadata": {},
   "outputs": [],
   "source": [
    "# add to node markers to the map\n",
    "m.add_layer(node0)\n",
    "m.add_layer(node1)\n",
    "m.add_layer(node2)"
   ]
  },
  {
   "cell_type": "code",
   "execution_count": null,
   "id": "df333b02",
   "metadata": {},
   "outputs": [],
   "source": [
    "# finished marker to indicate simulation has ended\n",
    "finished_message = HTML()\n",
    "finished_message.value = \"SIMULATION HAS ENDED\"\n",
    "# popup at a given location on the map\n",
    "finished = Popup(location=(6.519758953787167, 3.393086032629793),\n",
    "                 child=finished_message, close_button=False,\n",
    "                auto_close=False, close_on_escape_key=False)"
   ]
  },
  {
   "cell_type": "code",
   "execution_count": null,
   "id": "82e15d5a",
   "metadata": {},
   "outputs": [],
   "source": [
    "# add to the map, a circle to denote the network area\n",
    "circle = Circle(location=(center_lat, center_lon), radius=700,\n",
    "                color=\"red\", fill_opacity=0.05, weight=2)\n",
    "m.add_layer(circle)"
   ]
  },
  {
   "cell_type": "code",
   "execution_count": null,
   "id": "d51583a7",
   "metadata": {
    "scrolled": true
   },
   "outputs": [],
   "source": [
    "# add to the map, full screen control\n",
    "m.add_control(FullScreenControl())"
   ]
  },
  {
   "cell_type": "code",
   "execution_count": null,
   "id": "20b4bf22",
   "metadata": {},
   "outputs": [],
   "source": [
    "# add the ant path for the mobile user\n",
    "ant_path = AntPath(\n",
    "    locations=[\n",
    "             [6.51746, 3.387809],  [6.517765, 3.38888],  \n",
    "        [6.51787, 3.389167],  [6.518012, 3.389444],  [6.518155, 3.389655],  [6.518613, 3.390258],  \n",
    "        [6.518714, 3.390429],  [6.518853, 3.390723],  [6.518918, 3.390906],  [6.518962, 3.391101],  \n",
    "        [6.518987, 3.391336],  [6.518953, 3.39136],  [6.518938, 3.391409],  [6.518958, 3.391456],  \n",
    "        [6.518996, 3.391478],  [6.519081, 3.392472],  [6.519061, 3.392809],  [6.518588, 3.395111],  \n",
    "        [6.518573, 3.395146],  [6.518581, 3.395172],  [6.518524, 3.395528],  [6.518519, 3.395746],  \n",
    "        [6.518543, 3.395964],  [6.518633, 3.396351],  [6.518885, 3.396932],  [6.518885, 3.396951],  \n",
    "        [6.518558, 3.397097],  [6.518337, 3.397163],  [6.51809, 3.397207],  [6.5181, 3.397415],  \n",
    "        [6.517817, 3.397375],  [6.517817, 3.397375],  [6.517697, 3.397358],  [6.517421, 3.397361],  \n",
    "        [6.517129, 3.397372],  [6.517122, 3.39718],  [6.516851, 3.397201],  [6.516615, 3.397247],  \n",
    "        [6.516186, 3.397415],  [6.515613, 3.397588],  [6.515248, 3.39763],  [6.514928, 3.397589],  \n",
    "        [6.514331, 3.397446],  [6.513938, 3.397392],  [6.513805, 3.397393],  [6.513803, 3.39705],  \n",
    "        [6.513803, 3.39705],  [6.5138, 3.395799],  [6.513733, 3.395255],  [6.513587, 3.394569],  \n",
    "        [6.51326, 3.393188],  [6.512997, 3.39195],  [6.512791, 3.391198],  [6.512791, 3.391198],  \n",
    "        [6.512766, 3.391138],  [6.512776, 3.391118], [6.512986, 3.391188],  [6.515244, 3.39174],  \n",
    "        [6.515645, 3.39179],  [6.516234, 3.391781],  [6.5174, 3.391643],  [6.5174, 3.391643], \n",
    "        [6.518958, 3.391456],  [6.518996, 3.391478],  [6.519062, 3.391459],  [6.519084, 3.391414],  \n",
    "        [6.518946, 3.390819],  [6.518845, 3.39055],  [6.518786, 3.390418],  [6.518631, 3.390174],  \n",
    "        [6.518152, 3.38954],  [6.518025, 3.389333],  [6.517852, 3.388948],  [6.51758, 3.388034],  \n",
    "        [6.517636, 3.387979],  [6.517604, 3.387691], [6.51746, 3.387809],  [6.517765, 3.38888],  \n",
    "        [6.51787, 3.389167],  [6.518012, 3.389444],  [6.518155, 3.389655],  [6.518613, 3.390258],  \n",
    "        [6.518714, 3.390429],  [6.518853, 3.390723],  [6.518918, 3.390906],  [6.518962, 3.391101],  \n",
    "        [6.518987, 3.391336],  [6.518953, 3.39136],  [6.518938, 3.391409],  [6.518958, 3.391456],  \n",
    "        [6.518996, 3.391478],  [6.519081, 3.392472],  [6.519061, 3.392809],  [6.518588, 3.395111],  \n",
    "        [6.518573, 3.395146],  [6.518581, 3.395172],  [6.518524, 3.395528],  [6.518519, 3.395746],  \n",
    "        [6.518543, 3.395964],  [6.518633, 3.396351],  [6.518885, 3.396932],  [6.518885, 3.396951],  \n",
    "        [6.518558, 3.397097],  [6.518337, 3.397163],  [6.51809, 3.397207],  [6.5181, 3.397415],  \n",
    "        [6.517817, 3.397375],  [6.517817, 3.397375],  [6.517697, 3.397358],  [6.517421, 3.397361],  \n",
    "        [6.517129, 3.397372],  [6.517122, 3.39718],  [6.516851, 3.397201],  [6.516615, 3.397247],  \n",
    "        [6.516186, 3.397415],  [6.515613, 3.397588],  [6.515248, 3.39763],  [6.514928, 3.397589],  \n",
    "        [6.514331, 3.397446],  [6.513938, 3.397392],  [6.513805, 3.397393],  [6.513803, 3.39705],  \n",
    "        [6.513803, 3.39705],  [6.5138, 3.395799],  [6.513733, 3.395255],  [6.513587, 3.394569],  \n",
    "        [6.51326, 3.393188],  [6.512997, 3.39195],  [6.512791, 3.391198],  [6.512791, 3.391198],  \n",
    "        [6.512766, 3.391138],  [6.512776, 3.391118], [6.512986, 3.391188],  [6.515244, 3.39174],  \n",
    "        [6.515645, 3.39179],  [6.516234, 3.391781],  [6.5174, 3.391643],  [6.5174, 3.391643], \n",
    "        [6.518958, 3.391456],  [6.518996, 3.391478],  [6.519062, 3.391459],  [6.519084, 3.391414],  \n",
    "        [6.518946, 3.390819],  [6.518845, 3.39055],  [6.518786, 3.390418],  [6.518631, 3.390174],  \n",
    "        [6.518152, 3.38954],  [6.518025, 3.389333],  [6.517852, 3.388948],  [6.51758, 3.388034],  \n",
    "        [6.517636, 3.387979],  [6.517604, 3.387691]\n",
    "\n",
    "    ],\n",
    "    dash_array=[1, 10],\n",
    "    delay=1000,\n",
    "    color='#7590ba',\n",
    "    pulse_color='#3f6fba'\n",
    ")"
   ]
  },
  {
   "cell_type": "code",
   "execution_count": null,
   "id": "a3dabb63",
   "metadata": {},
   "outputs": [],
   "source": [
    "# add the ant path to the map\n",
    "m.add_layer(ant_path)"
   ]
  },
  {
   "cell_type": "code",
   "execution_count": null,
   "id": "c99f6e62",
   "metadata": {},
   "outputs": [],
   "source": [
    "# the moving marker\n",
    "marker2 = Marker(location=(6.51746, 3.387809), icon=icon5, rotation_angle=0)"
   ]
  },
  {
   "cell_type": "code",
   "execution_count": null,
   "id": "149dc4ac",
   "metadata": {},
   "outputs": [],
   "source": [
    "# add the marker2 to the map\n",
    "m.add_layer(marker2)"
   ]
  },
  {
   "cell_type": "markdown",
   "id": "88cfd378",
   "metadata": {},
   "source": [
    "# Set up the controls and interactactive widgets"
   ]
  },
  {
   "cell_type": "code",
   "execution_count": null,
   "id": "9a69f1e9",
   "metadata": {},
   "outputs": [],
   "source": [
    "# add sliders \n",
    "# for simulation speed\n",
    "speed_slider = widgets.FloatSlider(description='Run speed', value= 0.05, min=0.05, max=1, step=0.05)\n",
    "\n",
    "# for simulation run time\n",
    "runtime_slider = widgets.IntSlider(description='Run time', value=100, min=50, max=200, step=50)\n",
    "\n",
    "# for minimum cpu that can be requested\n",
    "min_cpu_slider = widgets.IntSlider(description='Min CPU', min=100, max=300, step=50)\n",
    "\n",
    "# for maximum cpu that can be requested\n",
    "max_cpu_slider = widgets.IntSlider(description='Max CPU', min=300, max=1200, step=100)\n",
    "\n",
    "# for progress bar\n",
    "sim_status = widgets.FloatProgress(\n",
    "    value=0,\n",
    "    min=0,\n",
    "    max=100,\n",
    "    step=0.1,\n",
    "    description='Running...',\n",
    "    bar_style='success', # 'success', 'info', 'warning', 'danger' or ''\n",
    "    orientation='horizontal'\n",
    ")\n",
    "# progress_bar =  WidgetControl(widget=sim_status, position='topright')"
   ]
  },
  {
   "cell_type": "code",
   "execution_count": null,
   "id": "7aec8cd9",
   "metadata": {},
   "outputs": [],
   "source": [
    "gui_box =  WidgetControl(widget=VBox([min_cpu_slider, max_cpu_slider,\n",
    "                                     speed_slider, runtime_slider, sim_status]), position='topright')"
   ]
  },
  {
   "cell_type": "code",
   "execution_count": null,
   "id": "9fc4d926",
   "metadata": {},
   "outputs": [],
   "source": [
    "m.add_control(gui_box)"
   ]
  },
  {
   "cell_type": "markdown",
   "id": "ec6fcbff",
   "metadata": {},
   "source": [
    "# Display the developed map, adjust the simulation paramters and run the simulation"
   ]
  },
  {
   "cell_type": "code",
   "execution_count": null,
   "id": "2542c0a0",
   "metadata": {
    "scrolled": true
   },
   "outputs": [],
   "source": [
    "# display the map\n",
    "m"
   ]
  },
  {
   "cell_type": "code",
   "execution_count": null,
   "id": "977f6b14",
   "metadata": {},
   "outputs": [],
   "source": [
    "# additional variables for statistics\n",
    "total_in_append = []\n",
    "tasks_processing_append = []\n",
    "still_processing_append = []\n",
    "total_out_append = []\n",
    "tasks_in_queue_append = []\n",
    "simulation_time_append = []\n",
    "cpu0_util_append = []\n",
    "cpu1_util_append = []\n",
    "cpu2_util_append = []\n",
    "schedule_id = 0"
   ]
  },
  {
   "cell_type": "code",
   "execution_count": null,
   "id": "4484eed9",
   "metadata": {
    "scrolled": true
   },
   "outputs": [],
   "source": [
    "# the python script for the simulation model\n",
    "\n",
    "simulation_run_time = runtime_slider.value\n",
    "sim_status.max = runtime_slider.value\n",
    "ant_path_coord_index = 0\n",
    "\n",
    "class TaskGenerator:\n",
    "    \"\"\"Class to generate tasks\"\"\"\n",
    "\n",
    "    def __init__(self, env):\n",
    "        self.env = env\n",
    "        self.cpu_requested = 0\n",
    "        self.task_id = 0\n",
    "        self.process_time = 0\n",
    "        self.marker = marker\n",
    "        self.initiate = env.process(self.generate_task())\n",
    "        self.loc_lat = 0\n",
    "        self.loc_lon = 0\n",
    "        \n",
    "\n",
    "    def generate_task(self):\n",
    "        global m\n",
    "        global marker\n",
    "        global marker2\n",
    "        global ant_path_coord_index\n",
    "        global speed\n",
    "        global schedule_id\n",
    "        \n",
    "\n",
    "        while True:\n",
    "            # inter arrival time for tasks\n",
    "            inter_arrival = np.random.uniform(1, 2)\n",
    "            \n",
    "            # append the task to the list\n",
    "            total_in_append.append(1)\n",
    "            \n",
    "            # task id\n",
    "            self.task_id += 1\n",
    "            \n",
    "            # task requested cpu\n",
    "            self.cpu_requested = np.random.randint(min_cpu_slider.value, max_cpu_slider.value)\n",
    "            \n",
    "            # normal duration time to process the task\n",
    "            self.process_time = np.random.randint(5, 15)\n",
    "\n",
    "            # task request location coordinates\n",
    "            self.loc_lat = np.random.uniform(6.509, 6.519)\n",
    "            self.loc_lon = np.random.uniform(3.39, 3.3985)\n",
    "\n",
    "            # Assign a schedule id depending on distance of task from each node.\n",
    "            # For example, if task is nearest to node0 then the schedule id = 0\n",
    "            # First measure the distance between the generated task and each node\n",
    "            dist_to_node0 = mpu.haversine_distance((self.loc_lat, self.loc_lon), \n",
    "                                                   (node0_lat, node0_lon))\n",
    "            dist_to_node1 = mpu.haversine_distance((self.loc_lat, self.loc_lon), \n",
    "                                                   (node1_lat, node1_lon))\n",
    "            dist_to_node2 = mpu.haversine_distance((self.loc_lat, self.loc_lon), \n",
    "                                                   (node2_lat, node2_lon))\n",
    "            \n",
    "            # set schedule ids\n",
    "            if dist_to_node0 < dist_to_node1 and dist_to_node0 < dist_to_node2:\n",
    "                schedule_id = 0\n",
    "            elif dist_to_node1 < dist_to_node2 and dist_to_node1 < dist_to_node0:\n",
    "                schedule_id = 1\n",
    "            else:\n",
    "                schedule_id = 2\n",
    "            \n",
    "            # record the time that the task came in\n",
    "            time_in = round(self.env.now, 1)\n",
    "            \n",
    "            # the popup for task location\n",
    "            marker_popup = HTML()\n",
    "            marker_popup.value = f\"Task received at time={time_in}, \" \\\n",
    "                                 f\"cpu requested={self.cpu_requested}, \" \\\n",
    "                                 f\"loc lat={round(self.loc_lat, 5)}, \" \\\n",
    "                                 f\"loc lon={round(self.loc_lon, 5)}\"\n",
    "            self.marker = Marker(location=(self.loc_lat, self.loc_lon),\n",
    "                                 icon=icon4, popup=marker_popup)\n",
    "            m.add_layer(self.marker)\n",
    "            \n",
    "            # the marker for the moving user is added\n",
    "            ant_path_coord_index += 1\n",
    "            try:\n",
    "                marker2.location = ant_path.locations[ant_path_coord_index]\n",
    "            except IndexError: # avoid end of list range error\n",
    "                marker2.location = ant_path.locations[-1] # stop at the last position\n",
    "          \n",
    "            # display the updated map\n",
    "            m\n",
    "            \n",
    "            # servicing of task\n",
    "            self.env.process(ServiceTask(self.env,\n",
    "                                         self.cpu_requested,\n",
    "                                         self.process_time,\n",
    "                                         self.marker,\n",
    "                                         self.task_id).service_task_in_node())\n",
    "            \n",
    "            # yield next task generation\n",
    "            yield self.env.timeout(inter_arrival)\n",
    "            \n",
    "            # tasks in queue\n",
    "            tasks_in_system = len(total_in_append) - len(total_out_append)\n",
    "            tasks_in_process = len(tasks_processing_append) - len(total_out_append)\n",
    "            if tasks_in_process > tasks_in_system:\n",
    "                tasks_in_queue = 0\n",
    "            else:\n",
    "                tasks_in_queue = tasks_in_system - tasks_in_process\n",
    "            \n",
    "            # update the progress bar\n",
    "            sim_status.value = self.env.now\n",
    "            \n",
    "            # cpu utilization\n",
    "            cpu0_util = (cpu_node0.capacity - cpu_node0.level) / cpu_node0.capacity\n",
    "            cpu1_util = (cpu_node1.capacity - cpu_node1.level) / cpu_node1.capacity\n",
    "            cpu2_util = (cpu_node2.capacity - cpu_node2.level) / cpu_node2.capacity\n",
    "\n",
    "            # parameters to graph\n",
    "            simulation_time_append.append(self.env.now)\n",
    "            tasks_in_queue_append.append(tasks_in_queue)\n",
    "            cpu0_util_append.append(cpu0_util)\n",
    "            cpu1_util_append.append(cpu1_util)\n",
    "            cpu2_util_append.append(cpu2_util)\n",
    "            \n",
    "\n",
    "class ServiceTask:\n",
    "    \"\"\"Class to process the task\"\"\"\n",
    "\n",
    "    def __init__(self, env, cpu_requested, process_time, marker, task_id):\n",
    "        self.env = env\n",
    "        self.cpu_requested = cpu_requested\n",
    "        self.process_time = process_time\n",
    "        self.marker = marker\n",
    "        self.task_id = task_id\n",
    "\n",
    "    def service_task_in_node(self):\n",
    "        global m\n",
    "        \n",
    "        for i in range(3):\n",
    "            if schedule_id == i:\n",
    "                # seize the requested cpu\n",
    "                yield cpu_resources[i].get(self.cpu_requested)\n",
    "\n",
    "                # change the icon to indicate service state\n",
    "                self.marker.icon = icon1\n",
    "\n",
    "                # process the task for a given process time\n",
    "                yield self.env.timeout(self.process_time)\n",
    "\n",
    "                # return the seized cpu\n",
    "                yield cpu_resources[i].put(self.cpu_requested)\n",
    "                \n",
    "                # register the time that the task is completed\n",
    "                time_out = self.env.now\n",
    "\n",
    "                # change the icon to indicate finished state\n",
    "                self.marker.icon = icon2\n",
    "\n",
    "                # To indicate a completed task, make marker more opaque to see it darker.\n",
    "                self.marker.opacity = 0.2\n",
    "                \n",
    "                # append the task to the total out\n",
    "                total_out_append.append(1)\n",
    "\n",
    "        \n",
    "# run the simulation in real time. Simulation runs faster for factor value --> 0.001.\n",
    "sim_env = simpy.rt.RealtimeEnvironment(factor=speed_slider.value, strict=False)\n",
    "\n",
    "# set up the resources. Resource is setup using simpy container\n",
    "cpu_node0 = simpy.Container(sim_env, init=1500, capacity=1500)\n",
    "cpu_node1 = simpy.Container(sim_env, init=1500, capacity=1500)\n",
    "cpu_node2 = simpy.Container(sim_env, init=1500, capacity=1500)\n",
    "cpu_resources = [cpu_node0, cpu_node1, cpu_node2]\n",
    "\n",
    "# start the simulation\n",
    "actuate = TaskGenerator(sim_env)\n",
    "sim_env.process(actuate.generate_task())\n",
    "\n",
    "# run the simulation to a set time\n",
    "sim_env.run(until=simulation_run_time)\n",
    "\n",
    "# add the popup to indicate simulation has finished running.\n",
    "m.add_layer(finished)\n",
    "\n",
    "# make progress bar finished\n",
    "sim_status.value = runtime_slider.value\n",
    "sim_status.description='FINISHED!!!'\n",
    "\n",
    "# plot the charts\n",
    "fig, (ax1, ax2, ax3, ax4) = plt.subplots(4, sharex=True, figsize=(10,8))\n",
    "fig.suptitle('All plots')\n",
    "ax1.plot(simulation_time_append, cpu0_util_append, 'k')\n",
    "ax1.set_title('CPU0 utilization', loc='left', fontsize=10, fontweight='bold', pad=1)\n",
    "ax1.tick_params(axis='y', which='major', labelsize=7)\n",
    "ax1.set_ylim([0, 1])\n",
    "ax2.plot(simulation_time_append, cpu1_util_append, 'g')\n",
    "ax2.set_title('CPU1 utilization', loc='left', fontsize=10, fontweight='bold', pad=2)\n",
    "ax2.tick_params(axis='y', which='major', labelsize=7)\n",
    "ax2.set_ylim([0, 1])\n",
    "ax3.plot(simulation_time_append, cpu2_util_append, 'r')\n",
    "ax3.set_title('CPU2 utilization', loc='left', fontsize=10, fontweight='bold', pad=2)\n",
    "ax3.tick_params(axis='y', which='major', labelsize=7)\n",
    "ax3.set_ylim([0, 1])\n",
    "ax4.plot(simulation_time_append, tasks_in_queue_append)\n",
    "ax4.set_title('Tasks in queue', loc='left', fontsize=10, fontweight='bold', pad=2)\n",
    "ax4.tick_params(axis='y', which='major', labelsize=7)\n",
    "plt.show()"
   ]
  },
  {
   "cell_type": "markdown",
   "id": "847693c8",
   "metadata": {},
   "source": [
    "# Scroll up to view the map with animation"
   ]
  },
  {
   "cell_type": "code",
   "execution_count": null,
   "id": "7ad40f08",
   "metadata": {},
   "outputs": [],
   "source": []
  }
 ],
 "metadata": {
  "kernelspec": {
   "display_name": "Python 3 (ipykernel)",
   "language": "python",
   "name": "python3"
  },
  "language_info": {
   "codemirror_mode": {
    "name": "ipython",
    "version": 3
   },
   "file_extension": ".py",
   "mimetype": "text/x-python",
   "name": "python",
   "nbconvert_exporter": "python",
   "pygments_lexer": "ipython3",
   "version": "3.9.5"
  }
 },
 "nbformat": 4,
 "nbformat_minor": 5
}
