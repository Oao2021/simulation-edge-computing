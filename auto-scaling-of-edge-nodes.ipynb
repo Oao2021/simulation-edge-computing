{
 "cells": [
  {
   "cell_type": "code",
   "execution_count": 1,
   "id": "63c62c56",
   "metadata": {},
   "outputs": [],
   "source": [
    "# import the libraries\n",
    "import simpy\n",
    "import numpy as np\n",
    "import matplotlib.pyplot as plt\n",
    "from time import sleep"
   ]
  },
  {
   "cell_type": "markdown",
   "id": "bc2a6819",
   "metadata": {},
   "source": [
    "### Set the starting or normal number of nodes."
   ]
  },
  {
   "cell_type": "code",
   "execution_count": 2,
   "id": "2859f571",
   "metadata": {},
   "outputs": [],
   "source": [
    "number_of_nodes = 2"
   ]
  },
  {
   "cell_type": "markdown",
   "id": "94275e59",
   "metadata": {},
   "source": [
    "### Set up the simulation environment"
   ]
  },
  {
   "cell_type": "code",
   "execution_count": 3,
   "id": "bd4c84c9",
   "metadata": {},
   "outputs": [],
   "source": [
    "# sim_env = simpy.Environment()\n",
    "sim_env = simpy.rt.RealtimeEnvironment(factor=0.01, strict=False)"
   ]
  },
  {
   "cell_type": "markdown",
   "id": "9e672798",
   "metadata": {},
   "source": [
    "### Set up the variables to collect the statistics"
   ]
  },
  {
   "cell_type": "code",
   "execution_count": 4,
   "id": "429f9dd6",
   "metadata": {},
   "outputs": [],
   "source": [
    "# additional variables for statistics\n",
    "nodes = []\n",
    "probabilities = []\n",
    "util = []\n",
    "total_in_append = []\n",
    "tasks_processing_append = []\n",
    "still_processing_append = []\n",
    "total_out_append = []\n",
    "tasks_in_queue_append = []\n",
    "simulation_time_append = []\n",
    "time_spent = 0"
   ]
  },
  {
   "cell_type": "markdown",
   "id": "86f66fca",
   "metadata": {},
   "source": [
    "## The simulation model"
   ]
  },
  {
   "cell_type": "code",
   "execution_count": 5,
   "id": "1e3e81db",
   "metadata": {},
   "outputs": [],
   "source": [
    "# the simpy-based simulation model\n",
    "\n",
    "class TaskGenerator:\n",
    "    \"\"\"Generates the task\"\"\"\n",
    "\n",
    "    def __init__(self, env, number_of_nodes):\n",
    "        self.env = env\n",
    "        self.number_of_nodes = number_of_nodes\n",
    "        self.cpu_requested = 0\n",
    "        self.task_id = 0\n",
    "        self.process_time = 0\n",
    "        self.initiate = env.process(self.generate_task())\n",
    "\n",
    "    def generate_task(self):\n",
    "#         for _ in range(self.number_of_nodes):\n",
    "#                 node = simpy.Container(sim_env, init=1500, capacity=1500)\n",
    "#                 nodes.append(node)\n",
    "\n",
    "        while True:\n",
    "            for _ in range(self.number_of_nodes):\n",
    "                # create the node resources\n",
    "                node = simpy.Container(sim_env, init=1500, capacity=1500)\n",
    "                nodes.append(node)\n",
    "                \n",
    "                # variable to append cpu utilization\n",
    "                i = []\n",
    "                util.append(i)\n",
    "                \n",
    "            # inter_arrival time for tasks\n",
    "            inter_arrival = np.random.uniform(2, 6)\n",
    "\n",
    "            # append the task to the list\n",
    "            total_in_append.append(1)\n",
    "\n",
    "            # increment the task id\n",
    "            self.task_id += 1\n",
    "\n",
    "            # the cpu that is requested by the task\n",
    "            self.cpu_requested = np.random.randint(100, 800)\n",
    "\n",
    "            # the normal process time for the task\n",
    "            self.process_time = np.random.randint(5, 20)\n",
    "\n",
    "            # Servicing of task in the node\n",
    "            self.env.process(ServiceTask(self.env,\n",
    "                                         self.cpu_requested,\n",
    "                                         self.process_time,\n",
    "                                         self.number_of_nodes).service_task_in_node())\n",
    "\n",
    "            # yield next task generation\n",
    "            yield self.env.timeout(inter_arrival)\n",
    "\n",
    "            # tasks in queue\n",
    "            tasks_in_system = len(total_in_append) - len(total_out_append)\n",
    "            tasks_in_process = len(tasks_processing_append) - len(total_out_append)\n",
    "            if tasks_in_process > tasks_in_system:\n",
    "                tasks_in_queue = 0\n",
    "            else:\n",
    "                tasks_in_queue = tasks_in_system - tasks_in_process\n",
    "            \n",
    "            # parameters to graph\n",
    "            simulation_time_append.append(self.env.now)\n",
    "            tasks_in_queue_append.append(tasks_in_queue)\n",
    "            \n",
    "            # auto scale the number of nodes\n",
    "            # the node resources             \n",
    "            if len(tasks_in_queue_append) > 25:\n",
    "                self.number_of_nodes = 5\n",
    "            else:\n",
    "                self.number_of_nodes = number_of_nodes          \n",
    "                              "
   ]
  },
  {
   "cell_type": "code",
   "execution_count": 6,
   "id": "a7ee6a8e",
   "metadata": {},
   "outputs": [],
   "source": [
    "class ServiceTask:\n",
    "    \"\"\"Services the task\"\"\"\n",
    "\n",
    "    def __init__(self, env, cpu_requested, process_time, number_of_nodes):\n",
    "        self.env = env\n",
    "        self.cpu_requested = cpu_requested\n",
    "        self.process_time = process_time\n",
    "        self.number_of_nodes = number_of_nodes\n",
    "\n",
    "    def service_task_in_node(self):\n",
    "        global time_spent\n",
    "\n",
    "        # Using the for loop in this method enables the scaling up or scaling down of nodes\n",
    "        for i in range(self.number_of_nodes):\n",
    "            # register the time that the task is received\n",
    "            time_in = self.env.now\n",
    "\n",
    "            # seize the requested cpu from the ith cpu_resource list\n",
    "            yield nodes[i].get(self.cpu_requested)\n",
    "\n",
    "            # seize the requested cpu for the specified process time\n",
    "            yield self.env.timeout(self.process_time)\n",
    "\n",
    "            # append the task to indicate the tasks in process\n",
    "            tasks_processing_append.append(1)\n",
    "\n",
    "            # return the cpu that was seized\n",
    "            yield nodes[i].put(self.cpu_requested)\n",
    "\n",
    "            # register the time that the task is completed\n",
    "            time_out = self.env.now\n",
    "\n",
    "            # compute the time the task spends in the system\n",
    "            time_spent = round((time_out - time_in), 2)\n",
    "\n",
    "            # append the task to the total out\n",
    "            total_out_append.append(1)\n",
    "\n"
   ]
  },
  {
   "cell_type": "code",
   "execution_count": 7,
   "id": "46754176",
   "metadata": {},
   "outputs": [
    {
     "data": {
      "text/plain": [
       "Text(0, 0.5, 'Tasks in queue')"
      ]
     },
     "execution_count": 7,
     "metadata": {},
     "output_type": "execute_result"
    },
    {
     "data": {
      "image/png": "[encoded data removed]",
      "text/plain": [
       "<Figure size 432x288 with 1 Axes>"
      ]
     },
     "metadata": {
      "needs_background": "light"
     },
     "output_type": "display_data"
    }
   ],
   "source": [
    "# activate the simulation environment\n",
    "actuate = TaskGenerator(sim_env, number_of_nodes)\n",
    "sim_env.process(actuate.generate_task())\n",
    "\n",
    "# run the simulation  until 200 time units\n",
    "sim_env.run(until=200)\n",
    "\n",
    "# plot the tasks in queue\n",
    "plt.figure()\n",
    "plt.step(simulation_time_append, tasks_in_queue_append)\n",
    "plt.xlabel(\"Time\")\n",
    "plt.ylabel(\"Tasks in queue\")"
   ]
  },
  {
   "cell_type": "code",
   "execution_count": null,
   "id": "760a6f70",
   "metadata": {},
   "outputs": [],
   "source": []
  },
  {
   "cell_type": "code",
   "execution_count": null,
   "id": "7a5e85d8",
   "metadata": {},
   "outputs": [],
   "source": []
  }
 ],
 "metadata": {
  "kernelspec": {
   "display_name": "Python 3 (ipykernel)",
   "language": "python",
   "name": "python3"
  },
  "language_info": {
   "codemirror_mode": {
    "name": "ipython",
    "version": 3
   },
   "file_extension": ".py",
   "mimetype": "text/x-python",
   "name": "python",
   "nbconvert_exporter": "python",
   "pygments_lexer": "ipython3",
   "version": "3.9.5"
  }
 },
 "nbformat": 4,
 "nbformat_minor": 5
}
