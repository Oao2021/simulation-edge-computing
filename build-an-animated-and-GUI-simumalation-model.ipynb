{
 "cells": [
  {
   "cell_type": "markdown",
   "id": "d45de80b",
   "metadata": {},
   "source": [
    "# Description"
   ]
  },
  {
   "cell_type": "markdown",
   "id": "d15efe55",
   "metadata": {},
   "source": [
    "Notebook by Omo Oleghe (o.oleghe@ritepaklimited.com)\n",
    "\n",
    "It is a simple notebook to model how one edge computing server services an area. The server is resource constrained by CPU. The simulation process has been modelled using simpy (https://simpy.readthedocs.io/en/latest/)\n",
    "\n",
    "ipyleaflet (https://ipyleaflet.readthedocs.io/en/latest/) has been used to model\n",
    "a geographical area to show when/where tasks are received. Popup markers are used to indicate the states of tasks from queuing to processing to finished. Blue markers (with Q) indicate tasks in queue. Green markers (with rotating gear) indicates tasks in process.\n",
    "Red markers for finished tasks are slightly opaque. The cell site has been centered and is indicated using a mast. A custom marker (car) has been used to mimic a moving car. In this notebook, the moving car is simply an object, just used to show how to add a moving object.\n",
    "\n",
    "ipywidgets (https://ipywidgets.readthedocs.io/) has been used to create the interactive GUIs\n",
    "\n",
    "Custom icons for the markers are from https://fontawesome.com\n",
    "Custom car and mast markers from https://www.flaticon.com\n",
    "Ant path coordinates were obtained using https://www.maps.ie/map-my-route/"
   ]
  },
  {
   "cell_type": "markdown",
   "id": "5bab0e44",
   "metadata": {},
   "source": [
    "## Set up for the map"
   ]
  },
  {
   "cell_type": "code",
   "execution_count": null,
   "id": "d376dd5a",
   "metadata": {},
   "outputs": [],
   "source": [
    "# import the map modules\n",
    "from ipyleaflet import (Map, Circle, Marker, MeasureControl, AwesomeIcon, \n",
    "                        Popup, FullScreenControl, AntPath, Icon, WidgetControl)\n",
    "from ipywidgets import (FloatSlider, IntSlider, interact, interactive, fixed, interact_manual, jslink, \n",
    "FloatProgress, VBox, HTML)\n",
    "import ipywidgets as widgets\n",
    "\n",
    "from IPython.display import display\n",
    "\n",
    "# import the simulation modules\n",
    "import simpy\n",
    "import numpy as np"
   ]
  },
  {
   "cell_type": "code",
   "execution_count": null,
   "id": "6ae5f2c3",
   "metadata": {},
   "outputs": [],
   "source": [
    "# set the center coordinates of the map\n",
    "center_lat = 6.515\n",
    "center_lon = 3.394"
   ]
  },
  {
   "cell_type": "code",
   "execution_count": null,
   "id": "8b0a1891",
   "metadata": {},
   "outputs": [],
   "source": [
    "# create the map widget\n",
    "m = Map(center=(center_lat, center_lon), zoom=15)"
   ]
  },
  {
   "cell_type": "markdown",
   "id": "40d7adf0",
   "metadata": {},
   "source": [
    "## Create custom icons for the map"
   ]
  },
  {
   "cell_type": "code",
   "execution_count": null,
   "id": "ae9d58ca",
   "metadata": {},
   "outputs": [],
   "source": [
    "# icon for marker to indicate task that is in process. The main marker (marker) icon is \n",
    "# dynamically changed within the service_task_in_node function in the simpy-based model \n",
    "# later on\n",
    "icon1 = AwesomeIcon(name='fas fa-cog', marker_color='green',\n",
    "                    icon_color='black', spin=True)\n",
    "\n",
    "# icon for marker to indicate task has completed. The main marker (marker) icon is \n",
    "# dynamically changed within the service_task_in_node function in the simpy-based model \n",
    "# later on\n",
    "icon2 = AwesomeIcon(name='check-circle', marker_color='red', icon_color='black')\n",
    "\n",
    "# icon for marker to show the cell site on the map\n",
    "icon3 = Icon(icon_url='https://image.flaticon.com/icons/png/512/62/62501.png', \n",
    "             icon_size=[25,60], icon_anchor=[25,60])\n",
    "\n",
    "# icon (Q) for main marker to indicate task is in queue\n",
    "icon4 = AwesomeIcon(name='fab fa-quora', marker_color='blue', icon_color='black')\n",
    "\n",
    "# icon for moving marker\n",
    "icon5 = Icon(icon_url='https://image.flaticon.com/icons/png/512/3202/3202926.png', \n",
    "             icon_size=[30, 30])"
   ]
  },
  {
   "cell_type": "markdown",
   "id": "496b65f5",
   "metadata": {},
   "source": [
    "# Set up the markers and ant paths"
   ]
  },
  {
   "cell_type": "code",
   "execution_count": null,
   "id": "b14d8dfe",
   "metadata": {},
   "outputs": [],
   "source": [
    "# This is the main marker, that will change icon states. Here it is instantiated.\n",
    "marker = Marker(location=(6.514253317659667, 3.3933971689342877), icon=icon4)"
   ]
  },
  {
   "cell_type": "code",
   "execution_count": null,
   "id": "4234b85a",
   "metadata": {},
   "outputs": [],
   "source": [
    "# static marker for the cell site.\n",
    "popup_cell_site = HTML()  # for popup text for the cell site\n",
    "popup_cell_site.value = f\"lat={center_lat}, lon={center_lon}\" \n",
    "marker1 = Marker(location=(center_lat, center_lon), icon=icon3, popup=popup_cell_site)"
   ]
  },
  {
   "cell_type": "code",
   "execution_count": null,
   "id": "df333b02",
   "metadata": {},
   "outputs": [],
   "source": [
    "# finished marker to indicate simulation has ended\n",
    "finished_message = HTML()\n",
    "finished_message.value = \"SIMULATION HAS ENDED\"\n",
    "# popup at a given location on the map\n",
    "finished = Popup(location=(6.519758953787167, 3.393086032629793),\n",
    "                 child=finished_message, close_button=False,\n",
    "                auto_close=False, close_on_escape_key=False)"
   ]
  },
  {
   "cell_type": "code",
   "execution_count": null,
   "id": "55965033",
   "metadata": {},
   "outputs": [],
   "source": [
    "# add to the map, the static marker for the cell site\n",
    "m.add_layer(marker1)"
   ]
  },
  {
   "cell_type": "code",
   "execution_count": null,
   "id": "82e15d5a",
   "metadata": {},
   "outputs": [],
   "source": [
    "# add to the map, a circle to denote the network area\n",
    "circle = Circle(location=(center_lat, center_lon), radius=700,\n",
    "                color=\"red\", fill_opacity=0.05, weight=2)\n",
    "m.add_layer(circle)"
   ]
  },
  {
   "cell_type": "code",
   "execution_count": null,
   "id": "cb24b43a",
   "metadata": {},
   "outputs": [],
   "source": [
    "# add to the map, a measuring ruler if needed\n",
    "measure = MeasureControl(position='bottomleft', active_color='orange',\n",
    "                         completed_color='red', primary_length_unit='kilometers')\n",
    "m.add_control(measure)"
   ]
  },
  {
   "cell_type": "code",
   "execution_count": null,
   "id": "d51583a7",
   "metadata": {
    "scrolled": true
   },
   "outputs": [],
   "source": [
    "# add to the map, full screen control\n",
    "m.add_control(FullScreenControl())"
   ]
  },
  {
   "cell_type": "code",
   "execution_count": null,
   "id": "20b4bf22",
   "metadata": {},
   "outputs": [],
   "source": [
    "# add the ant path for the mobile user\n",
    "ant_path = AntPath(\n",
    "    locations=[\n",
    "             [6.51746, 3.387809],  [6.517765, 3.38888],  \n",
    "        [6.51787, 3.389167],  [6.518012, 3.389444],  [6.518155, 3.389655],  [6.518613, 3.390258],  \n",
    "        [6.518714, 3.390429],  [6.518853, 3.390723],  [6.518918, 3.390906],  [6.518962, 3.391101],  \n",
    "        [6.518987, 3.391336],  [6.518953, 3.39136],  [6.518938, 3.391409],  [6.518958, 3.391456],  \n",
    "        [6.518996, 3.391478],  [6.519081, 3.392472],  [6.519061, 3.392809],  [6.518588, 3.395111],  \n",
    "        [6.518573, 3.395146],  [6.518581, 3.395172],  [6.518524, 3.395528],  [6.518519, 3.395746],  \n",
    "        [6.518543, 3.395964],  [6.518633, 3.396351],  [6.518885, 3.396932],  [6.518885, 3.396951],  \n",
    "        [6.518558, 3.397097],  [6.518337, 3.397163],  [6.51809, 3.397207],  [6.5181, 3.397415],  \n",
    "        [6.517817, 3.397375],  [6.517817, 3.397375],  [6.517697, 3.397358],  [6.517421, 3.397361],  \n",
    "        [6.517129, 3.397372],  [6.517122, 3.39718],  [6.516851, 3.397201],  [6.516615, 3.397247],  \n",
    "        [6.516186, 3.397415],  [6.515613, 3.397588],  [6.515248, 3.39763],  [6.514928, 3.397589],  \n",
    "        [6.514331, 3.397446],  [6.513938, 3.397392],  [6.513805, 3.397393],  [6.513803, 3.39705],  \n",
    "        [6.513803, 3.39705],  [6.5138, 3.395799],  [6.513733, 3.395255],  [6.513587, 3.394569],  \n",
    "        [6.51326, 3.393188],  [6.512997, 3.39195],  [6.512791, 3.391198],  [6.512791, 3.391198],  \n",
    "        [6.512766, 3.391138],  [6.512776, 3.391118], [6.512986, 3.391188],  [6.515244, 3.39174],  \n",
    "        [6.515645, 3.39179],  [6.516234, 3.391781],  [6.5174, 3.391643],  [6.5174, 3.391643], \n",
    "        [6.518958, 3.391456],  [6.518996, 3.391478],  [6.519062, 3.391459],  [6.519084, 3.391414],  \n",
    "        [6.518946, 3.390819],  [6.518845, 3.39055],  [6.518786, 3.390418],  [6.518631, 3.390174],  \n",
    "        [6.518152, 3.38954],  [6.518025, 3.389333],  [6.517852, 3.388948],  [6.51758, 3.388034],  \n",
    "        [6.517636, 3.387979],  [6.517604, 3.387691], [6.51746, 3.387809],  [6.517765, 3.38888],  \n",
    "        [6.51787, 3.389167],  [6.518012, 3.389444],  [6.518155, 3.389655],  [6.518613, 3.390258],  \n",
    "        [6.518714, 3.390429],  [6.518853, 3.390723],  [6.518918, 3.390906],  [6.518962, 3.391101],  \n",
    "        [6.518987, 3.391336],  [6.518953, 3.39136],  [6.518938, 3.391409],  [6.518958, 3.391456],  \n",
    "        [6.518996, 3.391478],  [6.519081, 3.392472],  [6.519061, 3.392809],  [6.518588, 3.395111],  \n",
    "        [6.518573, 3.395146],  [6.518581, 3.395172],  [6.518524, 3.395528],  [6.518519, 3.395746],  \n",
    "        [6.518543, 3.395964],  [6.518633, 3.396351],  [6.518885, 3.396932],  [6.518885, 3.396951],  \n",
    "        [6.518558, 3.397097],  [6.518337, 3.397163],  [6.51809, 3.397207],  [6.5181, 3.397415],  \n",
    "        [6.517817, 3.397375],  [6.517817, 3.397375],  [6.517697, 3.397358],  [6.517421, 3.397361],  \n",
    "        [6.517129, 3.397372],  [6.517122, 3.39718],  [6.516851, 3.397201],  [6.516615, 3.397247],  \n",
    "        [6.516186, 3.397415],  [6.515613, 3.397588],  [6.515248, 3.39763],  [6.514928, 3.397589],  \n",
    "        [6.514331, 3.397446],  [6.513938, 3.397392],  [6.513805, 3.397393],  [6.513803, 3.39705],  \n",
    "        [6.513803, 3.39705],  [6.5138, 3.395799],  [6.513733, 3.395255],  [6.513587, 3.394569],  \n",
    "        [6.51326, 3.393188],  [6.512997, 3.39195],  [6.512791, 3.391198],  [6.512791, 3.391198],  \n",
    "        [6.512766, 3.391138],  [6.512776, 3.391118], [6.512986, 3.391188],  [6.515244, 3.39174],  \n",
    "        [6.515645, 3.39179],  [6.516234, 3.391781],  [6.5174, 3.391643],  [6.5174, 3.391643], \n",
    "        [6.518958, 3.391456],  [6.518996, 3.391478],  [6.519062, 3.391459],  [6.519084, 3.391414],  \n",
    "        [6.518946, 3.390819],  [6.518845, 3.39055],  [6.518786, 3.390418],  [6.518631, 3.390174],  \n",
    "        [6.518152, 3.38954],  [6.518025, 3.389333],  [6.517852, 3.388948],  [6.51758, 3.388034],  \n",
    "        [6.517636, 3.387979],  [6.517604, 3.387691]\n",
    "\n",
    "    ],\n",
    "    dash_array=[1, 10],\n",
    "    delay=1000,\n",
    "    color='#7590ba',\n",
    "    pulse_color='#3f6fba'\n",
    ")"
   ]
  },
  {
   "cell_type": "code",
   "execution_count": null,
   "id": "a3dabb63",
   "metadata": {},
   "outputs": [],
   "source": [
    "# add the ant path to the map\n",
    "m.add_layer(ant_path)"
   ]
  },
  {
   "cell_type": "code",
   "execution_count": null,
   "id": "c99f6e62",
   "metadata": {},
   "outputs": [],
   "source": [
    "# the moving marker\n",
    "marker2 = Marker(location=(6.51746, 3.387809), icon=icon5, rotation_angle=0)"
   ]
  },
  {
   "cell_type": "code",
   "execution_count": null,
   "id": "149dc4ac",
   "metadata": {},
   "outputs": [],
   "source": [
    "# add the marker2 to the map\n",
    "m.add_layer(marker2)"
   ]
  },
  {
   "cell_type": "markdown",
   "id": "88cfd378",
   "metadata": {},
   "source": [
    "# Set up the controls and interactactive widgets"
   ]
  },
  {
   "cell_type": "code",
   "execution_count": null,
   "id": "9a69f1e9",
   "metadata": {},
   "outputs": [],
   "source": [
    "# add sliders \n",
    "# for simulation speed\n",
    "speed_slider = widgets.FloatSlider(description='Run speed', value= 0.4, min=0.2, max=1, step=0.2)\n",
    "\n",
    "# for simulation run time\n",
    "runtime_slider = widgets.IntSlider(description='Run time', value=100, min=50, max=150, step=50)\n",
    "\n",
    "# for minimum cpu that can be requested\n",
    "min_cpu_slider = widgets.IntSlider(description='Min CPU', min=100, max=300, step=50)\n",
    "\n",
    "# for maximum cpu that can be requested\n",
    "max_cpu_slider = widgets.IntSlider(description='Max CPU', min=300, max=1200, step=100)\n",
    "\n",
    "# for progress bar\n",
    "sim_status = widgets.FloatProgress(\n",
    "    value=0,\n",
    "    min=0,\n",
    "    max=100,\n",
    "    step=0.1,\n",
    "    description='Running...',\n",
    "    bar_style='success', # 'success', 'info', 'warning', 'danger' or ''\n",
    "    orientation='horizontal'\n",
    ")\n",
    "# progress_bar =  WidgetControl(widget=sim_status, position='topright')"
   ]
  },
  {
   "cell_type": "code",
   "execution_count": null,
   "id": "7aec8cd9",
   "metadata": {},
   "outputs": [],
   "source": [
    "gui_box =  WidgetControl(widget=VBox([min_cpu_slider, max_cpu_slider,\n",
    "                                     speed_slider, runtime_slider, sim_status]), position='topright')"
   ]
  },
  {
   "cell_type": "code",
   "execution_count": null,
   "id": "9fc4d926",
   "metadata": {},
   "outputs": [],
   "source": [
    "m.add_control(gui_box)"
   ]
  },
  {
   "cell_type": "code",
   "execution_count": null,
   "id": "9594ecac",
   "metadata": {},
   "outputs": [],
   "source": [
    "# add popup message for user to adjust the simulation parameters\n",
    "adjust_message = HTML()\n",
    "adjust_message.value = \"<h4>Adjust the simulation parameters before running the simuoation</h4>\"\n",
    "adjust = Popup(location=(6.515846920402922, 3.388322429485888),\n",
    "                 child=adjust_message)"
   ]
  },
  {
   "cell_type": "code",
   "execution_count": null,
   "id": "b2b1148b",
   "metadata": {},
   "outputs": [],
   "source": [
    "m.add_layer(adjust)"
   ]
  },
  {
   "cell_type": "markdown",
   "id": "ec6fcbff",
   "metadata": {},
   "source": [
    "# Display the developed map, adjust the simulation paramters and run the simulation"
   ]
  },
  {
   "cell_type": "code",
   "execution_count": null,
   "id": "2542c0a0",
   "metadata": {
    "scrolled": true
   },
   "outputs": [],
   "source": [
    "# display the map\n",
    "m"
   ]
  },
  {
   "cell_type": "code",
   "execution_count": null,
   "id": "4484eed9",
   "metadata": {
    "scrolled": true
   },
   "outputs": [],
   "source": [
    "# the python script for the simulation model\n",
    "\n",
    "\n",
    "simulation_run_time = runtime_slider.value\n",
    "sim_status.max = runtime_slider.value\n",
    "ant_path_coord_index = 0\n",
    "\n",
    "class TaskGenerator:\n",
    "    \"\"\"Class to generate tasks\"\"\"\n",
    "\n",
    "    def __init__(self, env):\n",
    "        self.env = env\n",
    "        self.cpu_requested = 0\n",
    "        self.task_id = 0\n",
    "        self.process_time = 0\n",
    "        self.marker = marker\n",
    "        self.initiate = env.process(self.generate_task())\n",
    "        self.loc_lat = 0\n",
    "        self.loc_lon = 0\n",
    "        \n",
    "\n",
    "    def generate_task(self):\n",
    "        global m\n",
    "        global marker\n",
    "        global marker2\n",
    "        global ant_path_coord_index\n",
    "        global speed\n",
    "        \n",
    "\n",
    "        while True:\n",
    "            # inter arrival time for tasks\n",
    "            inter_arrival = np.random.uniform(1, 4)\n",
    "            # task id\n",
    "            self.task_id += 1\n",
    "            # task requested cpu\n",
    "            self.cpu_requested = np.random.randint(min_cpu_slider.value, max_cpu_slider.value)\n",
    "            # normal duration time to process the task\n",
    "            normal_process_time = np.random.randint(3, 8)\n",
    "\n",
    "            # place marker to indicate task request location\n",
    "            self.loc_lat = np.random.uniform(6.509, 6.519)\n",
    "            self.loc_lon = np.random.uniform(3.39, 3.3985)\n",
    "\n",
    "            # Mimic how distance from cell site affects service duration.\n",
    "            # The further away the longer the duration\n",
    "            if abs(center_lat - self.loc_lat) > 0.0025 or abs(center_lon - self.loc_lon) > 0.0025:\n",
    "                self.process_time = normal_process_time * 1.5\n",
    "            else:\n",
    "                self.process_time = normal_process_time\n",
    "\n",
    "            # servicing of task\n",
    "            self.env.process(ServiceTask(self.env,\n",
    "                                         self.cpu_requested,\n",
    "                                         self.process_time,\n",
    "                                         self.marker,\n",
    "                                         self.task_id).service_task_in_node())\n",
    "            \n",
    "\n",
    "            time_in = round(self.env.now, 1)\n",
    "            \n",
    "            # the dynamic marker for the stationary user is added\n",
    "            marker_popup = HTML()\n",
    "            marker_popup.value = f\"Task received at time={time_in}, \" \\\n",
    "                                 f\"cpu requested={self.cpu_requested}, \" \\\n",
    "                                 f\"loc lat={round(self.loc_lat, 5)}, \" \\\n",
    "                                 f\"loc lon={round(self.loc_lon, 5)}\"\n",
    "            self.marker = Marker(location=(self.loc_lat, self.loc_lon),\n",
    "                                 icon=icon4, popup=marker_popup)\n",
    "            m.add_layer(self.marker)\n",
    "            \n",
    "            # the marker for the moving user is added\n",
    "            ant_path_coord_index += 1\n",
    "            try:\n",
    "                marker2.location = ant_path.locations[ant_path_coord_index]\n",
    "            except IndexError: # avoid end of list range error\n",
    "                marker2.location = ant_path.locations[-1] # stop at the last position\n",
    "          \n",
    "            # display the updated map\n",
    "            m\n",
    "\n",
    "            # yield next task generation\n",
    "            yield self.env.timeout(inter_arrival)\n",
    "            \n",
    "            # update the progress bar\n",
    "            sim_status.value = self.env.now\n",
    "            \n",
    "            \n",
    "class ServiceTask:\n",
    "    \"\"\"Class to process the task\"\"\"\n",
    "\n",
    "    def __init__(self, env, cpu_requested, process_time, marker, task_id):\n",
    "        self.env = env\n",
    "        self.cpu_requested = cpu_requested\n",
    "        self.process_time = process_time\n",
    "        self.marker = marker\n",
    "        self.task_id = task_id\n",
    "\n",
    "    def service_task_in_node(self):\n",
    "        global m\n",
    "\n",
    "        # seize the requested cpu\n",
    "        yield cpu_node0.get(self.cpu_requested)\n",
    "        # change the icon to indicate service state\n",
    "        self.marker.icon = icon1\n",
    "        # process the task for a given process time\n",
    "        yield self.env.timeout(self.process_time)\n",
    "        # return the seized cpu\n",
    "        yield cpu_node0.put(self.cpu_requested)\n",
    "        # change the icon to indicate finished state\n",
    "        self.marker.icon = icon2\n",
    "\n",
    "        # To indicate a completed task, make marker more opaque to see it darker.\n",
    "        self.marker.opacity = 0.2\n",
    "\n",
    "\n",
    "        \n",
    "# run the simulation in real time. Simulation runs faster for factor value --> 0.001.\n",
    "sim_env = simpy.rt.RealtimeEnvironment(factor=speed_slider.value, strict=False)\n",
    "\n",
    "# set up the resources. Resource is setup using simpy container\n",
    "cpu_node0 = simpy.Container(sim_env, init=1500, capacity=1500)\n",
    "\n",
    "# start the simulation\n",
    "actuate = TaskGenerator(sim_env)\n",
    "sim_env.process(actuate.generate_task())\n",
    "\n",
    "# run the simulation to a set time\n",
    "sim_env.run(until=simulation_run_time)\n",
    "\n",
    "# add the popup to indicate simulation has finished running.\n",
    "m.add_layer(finished)\n",
    "\n",
    "# make progress bar finished\n",
    "sim_status.value = runtime_slider.value\n",
    "sim_status.description='FINISHED!!!'"
   ]
  },
  {
   "cell_type": "markdown",
   "id": "847693c8",
   "metadata": {},
   "source": [
    "# Scroll up to view the map with animation"
   ]
  },
  {
   "cell_type": "code",
   "execution_count": null,
   "id": "7ad40f08",
   "metadata": {},
   "outputs": [],
   "source": []
  }
 ],
 "metadata": {
  "kernelspec": {
   "display_name": "Python 3 (ipykernel)",
   "language": "python",
   "name": "python3"
  },
  "language_info": {
   "codemirror_mode": {
    "name": "ipython",
    "version": 3
   },
   "file_extension": ".py",
   "mimetype": "text/x-python",
   "name": "python",
   "nbconvert_exporter": "python",
   "pygments_lexer": "ipython3",
   "version": "3.9.5"
  }
 },
 "nbformat": 4,
 "nbformat_minor": 5
}
